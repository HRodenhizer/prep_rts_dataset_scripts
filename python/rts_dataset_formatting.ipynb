{
 "cells": [
  {
   "cell_type": "markdown",
   "id": "b855d025-701c-41ff-8572-b15f728af14d",
   "metadata": {},
   "source": [
    "# RTS Dataset Formatting"
   ]
  },
  {
   "cell_type": "markdown",
   "id": "d1456fb4-b234-43e4-8b49-f7c0609469af",
   "metadata": {},
   "source": [
    "# TODO\n",
    "\n",
    "-  Make the script find and download the current version of the RTS dataset and metadata description rather than providing the filepath manually\n",
    "- remove filepaths and metadata columns that I set\n",
    "-  think through environment sharing (rts_dataset.rproj, .env, renv)\n",
    "-  finalize file organization/filepaths so that they don't differ between R and Python"
   ]
  },
  {
   "cell_type": "markdown",
   "id": "94555d75-e97e-4546-a5c4-2bcbef3e0e5f",
   "metadata": {},
   "source": [
    "# Set-Up"
   ]
  },
  {
   "cell_type": "code",
   "execution_count": 1,
   "id": "620757f9-4ed2-4e5e-b11c-55635a3593a4",
   "metadata": {},
   "outputs": [],
   "source": [
    "import os\n",
    "import uuid\n",
    "import numpy as np\n",
    "import pandas as pd\n",
    "import geopandas as gpd\n",
    "import matplotlib"
   ]
  },
  {
   "cell_type": "code",
   "execution_count": 2,
   "id": "4a74cbaf-f60b-4a9a-ac40-caab69c6aaa9",
   "metadata": {},
   "outputs": [],
   "source": [
    "pd.set_option(\"display.max_columns\", 100)"
   ]
  },
  {
   "cell_type": "markdown",
   "id": "7f5155e8-77a7-41d3-a6bf-60cca81eff06",
   "metadata": {},
   "source": [
    "Workaround for horizontal scrollbars not working in Firefox:"
   ]
  },
  {
   "cell_type": "code",
   "execution_count": 3,
   "id": "e647801c-6fbb-4394-91b4-2a6a38c19b1c",
   "metadata": {},
   "outputs": [
    {
     "data": {
      "text/html": [
       "<style>.jp-OutputArea-output {display:flex}</style>"
      ],
      "text/plain": [
       "<IPython.core.display.HTML object>"
      ]
     },
     "metadata": {},
     "output_type": "display_data"
    }
   ],
   "source": [
    "from IPython.display import display, HTML\n",
    "display(HTML(\"<style>.jp-OutputArea-output {display:flex}</style>\"))"
   ]
  },
  {
   "cell_type": "markdown",
   "id": "76b0e1d5-765c-4625-907f-ee225bf0490b",
   "metadata": {},
   "source": [
    "## User-Defined Input\n",
    "\n",
    "Before starting, copy your new file into the input_data directory.\n",
    "\n",
    "Provide the file name to the data:"
   ]
  },
  {
   "cell_type": "code",
   "execution_count": 4,
   "id": "1f12d02a-493b-4198-9b54-148d31ba3e6a",
   "metadata": {},
   "outputs": [],
   "source": [
    "new_data_file = 'rts_dataset_test_polygons_new.shp'  # set this\n",
    "new_data_filepath = os.path.join(\n",
    "  '../input_data',\n",
    "  new_data_file)"
   ]
  },
  {
   "cell_type": "markdown",
   "id": "8de02cfe-e038-4e60-838a-eb44f4a37bac",
   "metadata": {},
   "source": [
    "Provide the names of any metadata fields in your new file that are not already in the official RTS Data Set (please check the list to ensure that the field has not been included previously):"
   ]
  },
  {
   "cell_type": "code",
   "execution_count": 5,
   "id": "4b1eed63-3130-4c27-a766-795caae77587",
   "metadata": {},
   "outputs": [],
   "source": [
    "# Use the format `AbbreviatedName: FullName`, where the FullName should be a human-readable name and the AbbreviatedName should be the ESRI shapefile driver abbreviated version of the the FullName.\n",
    "# Example:\n",
    "# new_fields = {'CstmCl1': 'CustomColumn1'}\n",
    "new_fields = {'CstmCl1' : 'CustomColumn1'}"
   ]
  },
  {
   "cell_type": "markdown",
   "id": "bf895794-5813-4510-b0a6-173e4ddf4602",
   "metadata": {},
   "source": [
    "Have you already created RTS centroid columns, or would you like them to be created within this script? Provide either TRUE, if the columns do not exist yet, or FALSE, if you have already created them:"
   ]
  },
  {
   "cell_type": "code",
   "execution_count": 6,
   "id": "ee4e4180-47d6-425e-87da-45f838d90817",
   "metadata": {},
   "outputs": [],
   "source": [
    "# Example: \n",
    "# calculate_centroid = False\n",
    "calculate_centroid = False"
   ]
  },
  {
   "cell_type": "markdown",
   "id": "0276980d-a88b-45ee-84aa-41dd771f5b96",
   "metadata": {},
   "source": [
    "# Functions"
   ]
  },
  {
   "cell_type": "markdown",
   "id": "cb59c21a-7462-4da7-a8a6-3826a84df1bc",
   "metadata": {},
   "source": [
    "## run_formatting_checks"
   ]
  },
  {
   "cell_type": "code",
   "execution_count": 7,
   "id": "51b7d85d-6001-42ac-92d7-6b433fb8f873",
   "metadata": {},
   "outputs": [],
   "source": [
    "def check_lat(lat):\n",
    "    correct_type = type(lat[0]) == np.float64\n",
    "    missing_values = pd.isna(lat).values.any()\n",
    "    reasonable_values = np.all(lat.between(-180, 180))\n",
    "\n",
    "    if not correct_type:\n",
    "        raise ValueError('The CentroidLat column is not numeric. Ensure that latitude is reported as decimal degress in WGS 84.')\n",
    "    elif missing_values:\n",
    "        raise ValueError('The CentroidLat column is missing values.')\n",
    "    elif not reasonable_values:\n",
    "        raise ValueError('Unexpected values found in the CentroidLat column. Ensure that CentroidLat is listed as decimal degress in WGS 84.')\n",
    "\n",
    "def check_lon(lon):\n",
    "    correct_type = type(lon[0]) == np.float64\n",
    "    missing_values = pd.isna(lon).values.any()\n",
    "    reasonable_values = np.all(lon.between(-180, 180))\n",
    "\n",
    "    if not correct_type:\n",
    "        raise ValueError('The CentroidLon column is not numeric. Ensure that longitude is reported as decimal degress in WGS 84.')\n",
    "    elif missing_values:\n",
    "        raise ValueError('The CentroidLon column is missing values.')\n",
    "    elif not reasonable_values:\n",
    "        raise ValueError('Unexpected values found in the CentroidLon column. Ensure that longitude is listed as decimal degress in WGS 84.')\n",
    "\n",
    "def check_region(region):\n",
    "    correct_type = type(region[0]) == str\n",
    "    missing_values = (region == '').values.any()\n",
    "\n",
    "    if not correct_type:\n",
    "        raise ValueError('The RegionName column is not a string.')\n",
    "    elif missing_values:\n",
    "        raise ValueError('The RegionName column is missing values.')\n",
    "\n",
    "def check_creator(creator):\n",
    "    correct_type = type(creator[0]) == str\n",
    "    missing_values = (creator == '').values.any()\n",
    "\n",
    "    if not correct_type:\n",
    "        raise ValueError('The CreatorLab column is not a string.')\n",
    "    elif missing_values:\n",
    "        raise ValueError('The CreatorLab column is missing values.')\n",
    "\n",
    "def check_contribution_date(contribution_date):\n",
    "    correct_type = type(contribution_date[0]) == pd._libs.tslibs.timestamps.Timestamp\n",
    "    missing_values = (contribution_date == '').values.any()\n",
    "\n",
    "    if not correct_type:\n",
    "        raise ValueError('The ContributionDate column is not a string.')\n",
    "    elif missing_values:\n",
    "        raise ValueError('The ContributionDate column is missing values.')\n",
    "  \n",
    "def check_basemap_date(basemap_date):\n",
    "    correct_type = pd.Series([\n",
    "        type(pd.to_datetime(row, dayfirst = True)) == pd.core.indexes.datetimes.DatetimeIndex \n",
    "         for row in basemap_date.str.split(',')\n",
    "    ]).values.all()\n",
    "    missing_values = ((basemap_date.str.split(',', expand = True)).iloc[:, 0] == '').any()\n",
    "\n",
    "    if not correct_type:\n",
    "        raise ValueError('The BaseMapDate column does not contain dates (or they are improperly formatted).')\n",
    "    elif missing_values:\n",
    "        raise ValueError('The BaseMapDate column is missing values.')\n",
    "  \n",
    "def check_source(source):\n",
    "    correct_type = type(source[0]) == str\n",
    "    missing_values = (source == '').values.any()\n",
    "\n",
    "    if not correct_type:\n",
    "        raise ValueError('The BaseMapSource column is not a string.')\n",
    "    elif missing_values:\n",
    "        raise ValueError('The BaseMapSource column is missing values.')\n",
    "\n",
    "def check_resolution(resolution):\n",
    "    correct_type = type(resolution[0]) == np.float64\n",
    "    missing_values = pd.isna(resolution).values.any()\n",
    "\n",
    "    if not correct_type:\n",
    "        raise ValueError('The BaseMapResolution column is not a numeric.')\n",
    "    elif missing_values:\n",
    "        raise ValueError('The BaseMapResolution column is missing values.')\n",
    "\n",
    "def check_train_class(train_class):\n",
    "    correct_type = type(train_class[0]) == str\n",
    "    missing_values = (train_class == '').values.any()\n",
    "\n",
    "    if not correct_type:\n",
    "        raise ValueError('The TrainClass column is not a string.')\n",
    "    elif missing_values:\n",
    "        raise ValueError('The TrainClass column is missing values.')\n",
    "\n",
    "def run_formatting_checks(df):\n",
    "    check_lat(df.CentroidLat)\n",
    "    check_lon(df.CentroidLon)\n",
    "    check_region(df.RegionName)\n",
    "    check_creator(df.CreatorLab)\n",
    "    check_contribution_date(df.ContributionDate)\n",
    "    check_basemap_date(df.BaseMapDate)\n",
    "    check_source(df.BaseMapSource)\n",
    "    check_resolution(df.BaseMapResolution)\n",
    "    check_train_class(df.TrainClass)\n",
    "    \n",
    "    print('Formatting looks good!')\n"
   ]
  },
  {
   "cell_type": "markdown",
   "id": "175d7fc1-81de-4f7e-b724-1bc28c7ae8df",
   "metadata": {},
   "source": [
    "# Import Metadata Description File"
   ]
  },
  {
   "cell_type": "code",
   "execution_count": 8,
   "id": "aade68d9-87f2-4623-aa13-2ce67dc393a2",
   "metadata": {},
   "outputs": [],
   "source": [
    "### update this to download the current version automatically ##################\n",
    "col_metadata = pd.read_csv('../input_data/metadata_description.csv')\n",
    "################################################################################\n",
    "\n",
    "required_fields = (\n",
    "    pd.Series(\n",
    "        col_metadata[col_metadata.Required == True].FullColumnName.values, \n",
    "        index = col_metadata[col_metadata.Required == True].AbbreviatedColumnName\n",
    "    )\n",
    "    .to_dict()\n",
    ")\n",
    "optional_fields = (\n",
    "    pd.Series(\n",
    "        col_metadata[col_metadata.Required == False].FullColumnName.values, \n",
    "        index = col_metadata[col_metadata.Required == False].AbbreviatedColumnName\n",
    "    )\n",
    "    .to_dict()\n",
    ")"
   ]
  },
  {
   "cell_type": "markdown",
   "id": "bb2049e9-809c-4c13-a487-c25e3b986a2e",
   "metadata": {},
   "source": [
    "# Import Official and New RTS Data Files"
   ]
  },
  {
   "cell_type": "code",
   "execution_count": 9,
   "id": "62bc7c89-a80e-47f9-8b6e-d01644c64f5f",
   "metadata": {
    "scrolled": true
   },
   "outputs": [
    {
     "data": {
      "text/html": [
       "<div>\n",
       "<style scoped>\n",
       "    .dataframe tbody tr th:only-of-type {\n",
       "        vertical-align: middle;\n",
       "    }\n",
       "\n",
       "    .dataframe tbody tr th {\n",
       "        vertical-align: top;\n",
       "    }\n",
       "\n",
       "    .dataframe thead th {\n",
       "        text-align: right;\n",
       "    }\n",
       "</style>\n",
       "<table border=\"1\" class=\"dataframe\">\n",
       "  <thead>\n",
       "    <tr style=\"text-align: right;\">\n",
       "      <th></th>\n",
       "      <th>CentroidLat</th>\n",
       "      <th>CentroidLon</th>\n",
       "      <th>RegionName</th>\n",
       "      <th>CreatorLab</th>\n",
       "      <th>ContributionDate</th>\n",
       "      <th>BaseMapDate</th>\n",
       "      <th>BaseMapSource</th>\n",
       "      <th>BaseMapResolution</th>\n",
       "      <th>TrainClass</th>\n",
       "      <th>UUID</th>\n",
       "      <th>StabilizedRTS</th>\n",
       "      <th>MergedRTS</th>\n",
       "      <th>geometry</th>\n",
       "    </tr>\n",
       "  </thead>\n",
       "  <tbody>\n",
       "    <tr>\n",
       "      <th>0</th>\n",
       "      <td>68.339180</td>\n",
       "      <td>70.016684</td>\n",
       "      <td>Yamal-Gydan</td>\n",
       "      <td>Rodenhizer</td>\n",
       "      <td>2023-09-01</td>\n",
       "      <td>01-05-2022,30-09-2022</td>\n",
       "      <td>WorldView-2</td>\n",
       "      <td>4.0</td>\n",
       "      <td>Positive</td>\n",
       "      <td>a6cf10e7-6515-5ab7-b7bb-66606b16ef10</td>\n",
       "      <td>NaN</td>\n",
       "      <td>NaN</td>\n",
       "      <td>POLYGON ((2007198.307 865988.469, 2007189.916 ...</td>\n",
       "    </tr>\n",
       "    <tr>\n",
       "      <th>1</th>\n",
       "      <td>68.339167</td>\n",
       "      <td>70.016220</td>\n",
       "      <td>Yamal-Gydan</td>\n",
       "      <td>Rodenhizer</td>\n",
       "      <td>2023-09-01</td>\n",
       "      <td>01-05-2022,30-09-2022</td>\n",
       "      <td>WorldView-2</td>\n",
       "      <td>4.0</td>\n",
       "      <td>Positive</td>\n",
       "      <td>dd137c86-6db6-57da-bb46-961c89845a97</td>\n",
       "      <td>NaN</td>\n",
       "      <td>NaN</td>\n",
       "      <td>POLYGON ((2007253.161 866032.001, 2007235.776 ...</td>\n",
       "    </tr>\n",
       "    <tr>\n",
       "      <th>2</th>\n",
       "      <td>68.332416</td>\n",
       "      <td>70.016480</td>\n",
       "      <td>Yamal-Gydan</td>\n",
       "      <td>Rodenhizer</td>\n",
       "      <td>2023-09-01</td>\n",
       "      <td>01-05-2022,30-09-2022</td>\n",
       "      <td>WorldView-2</td>\n",
       "      <td>4.0</td>\n",
       "      <td>Positive</td>\n",
       "      <td>83b6a6ee-b498-5307-ada5-c4558e63a611</td>\n",
       "      <td>NaN</td>\n",
       "      <td>NaN</td>\n",
       "      <td>POLYGON ((2007310.378 865857.070, 2007340.692 ...</td>\n",
       "    </tr>\n",
       "    <tr>\n",
       "      <th>3</th>\n",
       "      <td>68.329500</td>\n",
       "      <td>70.015499</td>\n",
       "      <td>Yamal-Gydan</td>\n",
       "      <td>Rodenhizer</td>\n",
       "      <td>2023-09-01</td>\n",
       "      <td>01-05-2022,30-09-2022</td>\n",
       "      <td>WorldView-2</td>\n",
       "      <td>4.0</td>\n",
       "      <td>Positive</td>\n",
       "      <td>6c8a822f-e027-561d-915f-f3cdfc462594</td>\n",
       "      <td>NaN</td>\n",
       "      <td>NaN</td>\n",
       "      <td>POLYGON ((2007453.557 865845.775, 2007456.723 ...</td>\n",
       "    </tr>\n",
       "    <tr>\n",
       "      <th>4</th>\n",
       "      <td>68.332959</td>\n",
       "      <td>70.014513</td>\n",
       "      <td>Yamal-Gydan</td>\n",
       "      <td>Rodenhizer</td>\n",
       "      <td>2023-09-01</td>\n",
       "      <td>01-05-2022,30-09-2022</td>\n",
       "      <td>WorldView-2</td>\n",
       "      <td>4.0</td>\n",
       "      <td>Positive</td>\n",
       "      <td>ec6c9c21-1404-552d-8f09-6016f68ed15b</td>\n",
       "      <td>NaN</td>\n",
       "      <td>NaN</td>\n",
       "      <td>POLYGON ((2007514.965 865926.094, 2007508.132 ...</td>\n",
       "    </tr>\n",
       "    <tr>\n",
       "      <th>5</th>\n",
       "      <td>68.334934</td>\n",
       "      <td>70.014369</td>\n",
       "      <td>Yamal-Gydan</td>\n",
       "      <td>Rodenhizer</td>\n",
       "      <td>2023-09-01</td>\n",
       "      <td>01-05-2022,30-09-2022</td>\n",
       "      <td>WorldView-2</td>\n",
       "      <td>4.0</td>\n",
       "      <td>Positive</td>\n",
       "      <td>6484485f-b005-58ca-addb-f79829f5a929</td>\n",
       "      <td>NaN</td>\n",
       "      <td>NaN</td>\n",
       "      <td>POLYGON ((2007496.803 865994.362, 2007488.866 ...</td>\n",
       "    </tr>\n",
       "  </tbody>\n",
       "</table>\n",
       "</div>"
      ],
      "text/plain": [
       "   CentroidLat  CentroidLon   RegionName  CreatorLab ContributionDate  \\\n",
       "0    68.339180    70.016684  Yamal-Gydan  Rodenhizer       2023-09-01   \n",
       "1    68.339167    70.016220  Yamal-Gydan  Rodenhizer       2023-09-01   \n",
       "2    68.332416    70.016480  Yamal-Gydan  Rodenhizer       2023-09-01   \n",
       "3    68.329500    70.015499  Yamal-Gydan  Rodenhizer       2023-09-01   \n",
       "4    68.332959    70.014513  Yamal-Gydan  Rodenhizer       2023-09-01   \n",
       "5    68.334934    70.014369  Yamal-Gydan  Rodenhizer       2023-09-01   \n",
       "\n",
       "             BaseMapDate BaseMapSource  BaseMapResolution TrainClass  \\\n",
       "0  01-05-2022,30-09-2022   WorldView-2                4.0   Positive   \n",
       "1  01-05-2022,30-09-2022   WorldView-2                4.0   Positive   \n",
       "2  01-05-2022,30-09-2022   WorldView-2                4.0   Positive   \n",
       "3  01-05-2022,30-09-2022   WorldView-2                4.0   Positive   \n",
       "4  01-05-2022,30-09-2022   WorldView-2                4.0   Positive   \n",
       "5  01-05-2022,30-09-2022   WorldView-2                4.0   Positive   \n",
       "\n",
       "                                   UUID  StabilizedRTS  MergedRTS  \\\n",
       "0  a6cf10e7-6515-5ab7-b7bb-66606b16ef10            NaN        NaN   \n",
       "1  dd137c86-6db6-57da-bb46-961c89845a97            NaN        NaN   \n",
       "2  83b6a6ee-b498-5307-ada5-c4558e63a611            NaN        NaN   \n",
       "3  6c8a822f-e027-561d-915f-f3cdfc462594            NaN        NaN   \n",
       "4  ec6c9c21-1404-552d-8f09-6016f68ed15b            NaN        NaN   \n",
       "5  6484485f-b005-58ca-addb-f79829f5a929            NaN        NaN   \n",
       "\n",
       "                                            geometry  \n",
       "0  POLYGON ((2007198.307 865988.469, 2007189.916 ...  \n",
       "1  POLYGON ((2007253.161 866032.001, 2007235.776 ...  \n",
       "2  POLYGON ((2007310.378 865857.070, 2007340.692 ...  \n",
       "3  POLYGON ((2007453.557 865845.775, 2007456.723 ...  \n",
       "4  POLYGON ((2007514.965 865926.094, 2007508.132 ...  \n",
       "5  POLYGON ((2007496.803 865994.362, 2007488.866 ...  "
      ]
     },
     "execution_count": 9,
     "metadata": {},
     "output_type": "execute_result"
    }
   ],
   "source": [
    "### update this to find the dataset online and download it #####################\n",
    "rts_data_filepath = os.path.join(\n",
    "  '../input_data',\n",
    "  'rts_dataset_test_polygons_current.shp'\n",
    "  )\n",
    "\n",
    "rts_data = (\n",
    "    gpd.read_file(rts_data_filepath)\n",
    "    .rename(columns = dict(required_fields, **optional_fields))\n",
    "    .filter(items = list(required_fields.values()) + list(optional_fields.values()) + ['geometry'])\n",
    ")\n",
    "\n",
    "rts_data.ContributionDate = pd.to_datetime(rts_data.ContributionDate)\n",
    "    \n",
    "for field in list(required_fields.values()): # Check if all required columns are present\n",
    "    if field not in rts_data.columns:\n",
    "        raise ValueError('{field} is missing. Has the RTS data set been modified since download?'.format(field = repr(field)))\n",
    "\n",
    "# for field in list(optional_fields.values()): # Check if all optional columns are present\n",
    "#     if field not in rts_data.columns:\n",
    "#         raise ValueError('{field} is missing. Has the RTS data set been modified since download?'.format(field = repr(field)))\n",
    "\n",
    "rts_data\n",
    "################################################################################\n"
   ]
  },
  {
   "cell_type": "code",
   "execution_count": 10,
   "id": "43f7dc7e-127a-40bf-b1c9-457799700654",
   "metadata": {},
   "outputs": [
    {
     "data": {
      "text/html": [
       "<div>\n",
       "<style scoped>\n",
       "    .dataframe tbody tr th:only-of-type {\n",
       "        vertical-align: middle;\n",
       "    }\n",
       "\n",
       "    .dataframe tbody tr th {\n",
       "        vertical-align: top;\n",
       "    }\n",
       "\n",
       "    .dataframe thead th {\n",
       "        text-align: right;\n",
       "    }\n",
       "</style>\n",
       "<table border=\"1\" class=\"dataframe\">\n",
       "  <thead>\n",
       "    <tr style=\"text-align: right;\">\n",
       "      <th></th>\n",
       "      <th>CentroidLat</th>\n",
       "      <th>CentroidLon</th>\n",
       "      <th>RegionName</th>\n",
       "      <th>CreatorLab</th>\n",
       "      <th>ContributionDate</th>\n",
       "      <th>BaseMapDate</th>\n",
       "      <th>BaseMapSource</th>\n",
       "      <th>BaseMapResolution</th>\n",
       "      <th>TrainClass</th>\n",
       "      <th>CustomColumn1</th>\n",
       "      <th>geometry</th>\n",
       "    </tr>\n",
       "  </thead>\n",
       "  <tbody>\n",
       "    <tr>\n",
       "      <th>0</th>\n",
       "      <td>68.339261</td>\n",
       "      <td>70.016553</td>\n",
       "      <td>Yamal-Gydan</td>\n",
       "      <td>Rodenhizer</td>\n",
       "      <td>2023-09-28</td>\n",
       "      <td>01-05-2023,30-09-2023</td>\n",
       "      <td>WorldView-2</td>\n",
       "      <td>4.0</td>\n",
       "      <td>Positive</td>\n",
       "      <td>NaN</td>\n",
       "      <td>POLYGON ((2007199.012 865984.608, 2007188.217 ...</td>\n",
       "    </tr>\n",
       "    <tr>\n",
       "      <th>1</th>\n",
       "      <td>68.340715</td>\n",
       "      <td>70.015426</td>\n",
       "      <td>Yamal-Gydan</td>\n",
       "      <td>Rodenhizer</td>\n",
       "      <td>2023-09-28</td>\n",
       "      <td>01-05-2023,30-09-2023</td>\n",
       "      <td>WorldView-2</td>\n",
       "      <td>4.0</td>\n",
       "      <td>Positive</td>\n",
       "      <td>NaN</td>\n",
       "      <td>POLYGON ((2007289.337 866129.959, 2007283.521 ...</td>\n",
       "    </tr>\n",
       "    <tr>\n",
       "      <th>2</th>\n",
       "      <td>68.332350</td>\n",
       "      <td>70.016517</td>\n",
       "      <td>Yamal-Gydan</td>\n",
       "      <td>Rodenhizer</td>\n",
       "      <td>2023-09-28</td>\n",
       "      <td>01-05-2023,30-09-2023</td>\n",
       "      <td>WorldView-2</td>\n",
       "      <td>4.0</td>\n",
       "      <td>Positive</td>\n",
       "      <td>NaN</td>\n",
       "      <td>POLYGON ((2007340.152 865838.514, 2007326.959 ...</td>\n",
       "    </tr>\n",
       "    <tr>\n",
       "      <th>3</th>\n",
       "      <td>68.331148</td>\n",
       "      <td>70.015305</td>\n",
       "      <td>Yamal-Gydan</td>\n",
       "      <td>Rodenhizer</td>\n",
       "      <td>2023-09-28</td>\n",
       "      <td>01-05-2023,30-09-2023</td>\n",
       "      <td>WorldView-2</td>\n",
       "      <td>4.0</td>\n",
       "      <td>Positive</td>\n",
       "      <td>NaN</td>\n",
       "      <td>POLYGON ((2007453.557 865845.775, 2007456.416 ...</td>\n",
       "    </tr>\n",
       "    <tr>\n",
       "      <th>4</th>\n",
       "      <td>68.333416</td>\n",
       "      <td>70.014570</td>\n",
       "      <td>Yamal-Gydan</td>\n",
       "      <td>Rodenhizer</td>\n",
       "      <td>2023-09-28</td>\n",
       "      <td>01-05-2023,30-09-2023</td>\n",
       "      <td>WorldView-2</td>\n",
       "      <td>4.0</td>\n",
       "      <td>Positive</td>\n",
       "      <td>NaN</td>\n",
       "      <td>POLYGON ((2007492.587 865949.766, 2007492.342 ...</td>\n",
       "    </tr>\n",
       "    <tr>\n",
       "      <th>5</th>\n",
       "      <td>68.334955</td>\n",
       "      <td>70.014478</td>\n",
       "      <td>Yamal-Gydan</td>\n",
       "      <td>Rodenhizer</td>\n",
       "      <td>2023-09-28</td>\n",
       "      <td>01-05-2023,30-09-2023</td>\n",
       "      <td>WorldView-2</td>\n",
       "      <td>4.0</td>\n",
       "      <td>Positive</td>\n",
       "      <td>NaN</td>\n",
       "      <td>POLYGON ((2007479.747 865990.850, 2007472.484 ...</td>\n",
       "    </tr>\n",
       "    <tr>\n",
       "      <th>6</th>\n",
       "      <td>68.340715</td>\n",
       "      <td>70.015426</td>\n",
       "      <td>Yamal-Gydan</td>\n",
       "      <td>Rodenhizer</td>\n",
       "      <td>2023-09-28</td>\n",
       "      <td>01-05-2022,30-9-2022</td>\n",
       "      <td>WorldView-2</td>\n",
       "      <td>4.0</td>\n",
       "      <td>Positive</td>\n",
       "      <td>NaN</td>\n",
       "      <td>POLYGON ((2007289.337 866129.959, 2007283.521 ...</td>\n",
       "    </tr>\n",
       "  </tbody>\n",
       "</table>\n",
       "</div>"
      ],
      "text/plain": [
       "   CentroidLat  CentroidLon   RegionName  CreatorLab ContributionDate  \\\n",
       "0    68.339261    70.016553  Yamal-Gydan  Rodenhizer       2023-09-28   \n",
       "1    68.340715    70.015426  Yamal-Gydan  Rodenhizer       2023-09-28   \n",
       "2    68.332350    70.016517  Yamal-Gydan  Rodenhizer       2023-09-28   \n",
       "3    68.331148    70.015305  Yamal-Gydan  Rodenhizer       2023-09-28   \n",
       "4    68.333416    70.014570  Yamal-Gydan  Rodenhizer       2023-09-28   \n",
       "5    68.334955    70.014478  Yamal-Gydan  Rodenhizer       2023-09-28   \n",
       "6    68.340715    70.015426  Yamal-Gydan  Rodenhizer       2023-09-28   \n",
       "\n",
       "             BaseMapDate BaseMapSource  BaseMapResolution TrainClass  \\\n",
       "0  01-05-2023,30-09-2023   WorldView-2                4.0   Positive   \n",
       "1  01-05-2023,30-09-2023   WorldView-2                4.0   Positive   \n",
       "2  01-05-2023,30-09-2023   WorldView-2                4.0   Positive   \n",
       "3  01-05-2023,30-09-2023   WorldView-2                4.0   Positive   \n",
       "4  01-05-2023,30-09-2023   WorldView-2                4.0   Positive   \n",
       "5  01-05-2023,30-09-2023   WorldView-2                4.0   Positive   \n",
       "6   01-05-2022,30-9-2022   WorldView-2                4.0   Positive   \n",
       "\n",
       "   CustomColumn1                                           geometry  \n",
       "0            NaN  POLYGON ((2007199.012 865984.608, 2007188.217 ...  \n",
       "1            NaN  POLYGON ((2007289.337 866129.959, 2007283.521 ...  \n",
       "2            NaN  POLYGON ((2007340.152 865838.514, 2007326.959 ...  \n",
       "3            NaN  POLYGON ((2007453.557 865845.775, 2007456.416 ...  \n",
       "4            NaN  POLYGON ((2007492.587 865949.766, 2007492.342 ...  \n",
       "5            NaN  POLYGON ((2007479.747 865990.850, 2007472.484 ...  \n",
       "6            NaN  POLYGON ((2007289.337 866129.959, 2007283.521 ...  "
      ]
     },
     "execution_count": 10,
     "metadata": {},
     "output_type": "execute_result"
    }
   ],
   "source": [
    "if calculate_centroid:\n",
    "    new_data = gpd.read_file(new_data_filepath)\n",
    "\n",
    "    new_data[\"CntrdLt\"] = new_data.centroid.x\n",
    "    new_data[\"CntrdLn\"] = new_data.centroid.y\n",
    "\n",
    "    new_data = (\n",
    "        new_data    \n",
    "        .rename(columns = dict(\n",
    "            {key:required_fields[key] for key in [key for key in list(required_fields.keys()) if key != 'UUID']},\n",
    "            **optional_fields,\n",
    "            **new_fields\n",
    "            )\n",
    "                )\n",
    "        .filter(items = list(required_fields.values()) + list(optional_fields.values()) + list(new_fields.values()) + ['geometry'])\n",
    "        )\n",
    "\n",
    "    new_data.ContributionDate = pd.to_datetime(new_data.ContributionDate)\n",
    "    \n",
    "    for field in [item for item in list(required_fields.values()) if item not in ['UUID']]: # Check if all required columns are present\n",
    "        if field not in new_data.columns:\n",
    "            raise ValueError('{field} is missing. Ensure that all required fields (except UUID) are present prior to running this script'\n",
    "                             .format(field = repr(field)))\n",
    "\n",
    "    for field in [item for item in list(new_fields.values()) if item not in ['UUID']]: # Check if all new columns are present\n",
    "        if field not in new_data.columns:\n",
    "            raise ValueError('{field} is missing. Did you specify the name of the new metadata field correctly?'.format(field = repr(field)))\n",
    "\n",
    "else:\n",
    "    \n",
    "    new_data = (\n",
    "        gpd.read_file(new_data_filepath)\n",
    "        .rename(columns = dict(\n",
    "            {key:required_fields[key] for key in [key for key in list(required_fields.keys()) if key != 'UUID']},\n",
    "            **optional_fields,\n",
    "            **new_fields\n",
    "            )\n",
    "                )\n",
    "        .filter(items = list(required_fields.values()) + list(optional_fields.values()) + list(new_fields.values()) + ['geometry'])\n",
    "        )\n",
    "    \n",
    "    new_data.ContributionDate = pd.to_datetime(new_data.ContributionDate)\n",
    "    \n",
    "    for field in [item for item in list(required_fields.values()) if item not in ['UUID']]: # Check if all required columns are present\n",
    "        if field not in new_data.columns:\n",
    "            raise ValueError('{field} is missing. Ensure that all required fields (except UUID) are present prior to running this script'\n",
    "                             .format(field = repr(field)))\n",
    "\n",
    "    for field in [item for item in list(new_fields.values()) if item not in ['UUID']]: # Check if all new columns are present\n",
    "        if field not in new_data.columns:\n",
    "            raise ValueError('{field} is missing. Did you specify the name of the new metadata field correctly?'\n",
    "                             .format(field = repr(field)))\n",
    "\n",
    "new_data"
   ]
  },
  {
   "cell_type": "markdown",
   "id": "5ec8e362-db58-4113-9649-847493086c2d",
   "metadata": {},
   "source": [
    "# Check Metadata Format of New Data"
   ]
  },
  {
   "cell_type": "code",
   "execution_count": 11,
   "id": "5a727702-7c40-404d-884b-99a4f28aa5b0",
   "metadata": {},
   "outputs": [
    {
     "name": "stdout",
     "output_type": "stream",
     "text": [
      "Formatting looks good!\n"
     ]
    }
   ],
   "source": [
    "run_formatting_checks(new_data)"
   ]
  },
  {
   "cell_type": "markdown",
   "id": "53aacb8d-8ea6-4721-b9c3-c3d95c499700",
   "metadata": {},
   "source": [
    "# Generate UUIDs\n",
    "\n",
    "Set seed for UUID generation (R) by concatenating all required metadata columns (except UUID) into a single string"
   ]
  },
  {
   "cell_type": "code",
   "execution_count": 12,
   "id": "c9831a76-88e7-4713-81c8-68f286181921",
   "metadata": {},
   "outputs": [],
   "source": [
    "new_data.CentroidLat = np.round(new_data.CentroidLat, 13)\n",
    "new_data.CentroidLon = np.round(new_data.CentroidLon, 13)\n",
    "new_data.ContributionDate = new_data.ContributionDate.dt.strftime('%d-%m-%Y')\n",
    "c = new_data.BaseMapResolution == new_data.BaseMapResolution.astype(int)\n",
    "new_data.loc[c,'BaseMapResolutionStr'] = new_data.BaseMapResolution.astype(int).astype(str)\n",
    "new_data.loc[~c,'BaseMapResolutionStr'] = new_data.BaseMapResolution.astype(str)"
   ]
  },
  {
   "cell_type": "code",
   "execution_count": 13,
   "id": "8594856b-c93f-40c3-a64b-392cd2314110",
   "metadata": {},
   "outputs": [
    {
     "data": {
      "text/plain": [
       "0    68.339261104234670.0165529204254Yamal-GydanRod...\n",
       "1    68.340714676900170.0154263449502Yamal-GydanRod...\n",
       "2    68.332350277384570.0165169977827Yamal-GydanRod...\n",
       "3    68.331147672551270.0153050153547Yamal-GydanRod...\n",
       "4    68.333415505029970.0145699849345Yamal-GydanRod...\n",
       "5    68.334954611879170.014478196315Yamal-GydanRode...\n",
       "6    68.340714676900170.0154263449502Yamal-GydanRod...\n",
       "Name: seed, dtype: object"
      ]
     },
     "execution_count": 13,
     "metadata": {},
     "output_type": "execute_result"
    }
   ],
   "source": [
    "new_data['seed'] = (\n",
    "    new_data[[\n",
    "        'CentroidLat', \n",
    "        'CentroidLon', \n",
    "        'RegionName', \n",
    "        'CreatorLab', \n",
    "        'ContributionDate', \n",
    "        'BaseMapDate', \n",
    "        'BaseMapSource', \n",
    "        'BaseMapResolutionStr', \n",
    "        'TrainClass'\n",
    "    ]].apply(\n",
    "        lambda row: ''.join(row.values.astype(str)),\n",
    "        axis = 1\n",
    "    )\n",
    ")\n",
    "new_data.seed"
   ]
  },
  {
   "cell_type": "markdown",
   "id": "f29b1c54-d187-410a-92e8-24237e4a697e",
   "metadata": {},
   "source": [
    "Generate UUIDs"
   ]
  },
  {
   "cell_type": "code",
   "execution_count": 14,
   "id": "8c5fd359-b4cf-4753-bd7d-c67dd31e4d92",
   "metadata": {},
   "outputs": [
    {
     "data": {
      "text/plain": [
       "0    7aa12b12-bc66-5cb5-aaa4-79ca55c4515a\n",
       "1    65ad3115-083e-5d5f-a98d-43a49ac220b9\n",
       "2    4dc81d34-3a76-5bc9-bd05-2c8d59fe15a1\n",
       "3    077d50c3-550d-5dcc-a5d0-cc82d2ebbae3\n",
       "4    5c170b46-ded0-582d-be79-293160b0554d\n",
       "5    5e62e8b5-2489-5b04-9344-601ed863cb55\n",
       "6    4bf95199-c169-54b1-85c8-f20cc32ac29e\n",
       "Name: UUID, dtype: object"
      ]
     },
     "execution_count": 14,
     "metadata": {},
     "output_type": "execute_result"
    }
   ],
   "source": [
    "new_data['UUID'] = [str(uuid.uuid5(uuid.NAMESPACE_DNS, name = seed)) for seed in new_data.seed]\n",
    "new_data.UUID"
   ]
  },
  {
   "cell_type": "markdown",
   "id": "23ef74f1-a2cf-4605-b60b-6e9855a29c4c",
   "metadata": {},
   "source": [
    "# Check for Intersections with RTS Data Set\n",
    "\n",
    "Find intersecting RTS polygons from the official RTS data set and retrieve their UUIDs. Create an empty column for the UUIDs of polygons that have been repeated that will be manually populated."
   ]
  },
  {
   "cell_type": "code",
   "execution_count": 29,
   "id": "26aa65bd-bdef-4bdf-a039-097b103edfc7",
   "metadata": {},
   "outputs": [
    {
     "name": "stderr",
     "output_type": "stream",
     "text": [
      "/tmp/ipykernel_32330/2964380494.py:26: UserWarning: Column names longer than 10 characters will be truncated when saved to ESRI Shapefile.\n",
      "  overlapping_data.to_file(\n"
     ]
    }
   ],
   "source": [
    "def get_intersecting_uuids(polygon, df):\n",
    "    intersections = [','.join(gpd.overlay(polygon, df, how='intersection').UUID_2)]\n",
    "    return intersections\n",
    "\n",
    "intersections = []\n",
    "for idx in range(0,new_data.shape[0]):\n",
    "    new_intersections = get_intersecting_uuids(new_data.iloc[[idx]], rts_data)\n",
    "    intersections = intersections + new_intersections\n",
    "    \n",
    "new_data['Intersections'] = intersections\n",
    "\n",
    "overlapping_data = new_data.copy()\n",
    "overlapping_data = overlapping_data[overlapping_data.Intersections.str.len() > 0]\n",
    "overlapping_data\n",
    "\n",
    "if overlapping_data.shape[0] > 0:\n",
    "    if 'RepeatRTS' not in list(overlapping_data.columns.values):\n",
    "        overlapping_data['RepeatRTS'] = ['']*overlapping_data.shape[0]\n",
    "    if 'MergedRTS' not in list(overlapping_data.columns.values):\n",
    "        overlapping_data['MergedRTS'] = ['']*overlapping_data.shape[0]\n",
    "    if 'StabilizedRTS' not in list(overlapping_data.columns.values):\n",
    "        overlapping_data['StabilizedRTS'] = ['']*overlapping_data.shape[0]\n",
    "\n",
    "    overlapping_data['AccidentalOverlap'] = ['']*overlapping_data.shape[0]\n",
    "\n",
    "    overlapping_data.to_file(\n",
    "        os.path.join(\n",
    "            '../python_output',\n",
    "            new_data_file.split('.')[0] + \"_overlapping_polygons.shp\"\n",
    "        )\n",
    "    )"
   ]
  },
  {
   "cell_type": "code",
   "execution_count": 17,
   "id": "6d3c3b8e-b714-4984-94f2-2ed03b5f8ef9",
   "metadata": {},
   "outputs": [
    {
     "ename": "NameError",
     "evalue": "name 'intersection_gdf' is not defined",
     "output_type": "error",
     "traceback": [
      "\u001b[0;31m---------------------------------------------------------------------------\u001b[0m",
      "\u001b[0;31mNameError\u001b[0m                                 Traceback (most recent call last)",
      "Cell \u001b[0;32mIn[17], line 1\u001b[0m\n\u001b[0;32m----> 1\u001b[0m plt \u001b[38;5;241m=\u001b[39m \u001b[43mintersection_gdf\u001b[49m\u001b[38;5;241m.\u001b[39mboundary\u001b[38;5;241m.\u001b[39mplot(color \u001b[38;5;241m=\u001b[39m \u001b[38;5;124m'\u001b[39m\u001b[38;5;124mblack\u001b[39m\u001b[38;5;124m'\u001b[39m, linewidth \u001b[38;5;241m=\u001b[39m \u001b[38;5;241m1\u001b[39m)\n\u001b[1;32m      2\u001b[0m new_data\u001b[38;5;241m.\u001b[39mboundary\u001b[38;5;241m.\u001b[39mplot(ax \u001b[38;5;241m=\u001b[39m plt, color \u001b[38;5;241m=\u001b[39m \u001b[38;5;124m'\u001b[39m\u001b[38;5;124mred\u001b[39m\u001b[38;5;124m'\u001b[39m, linewidth \u001b[38;5;241m=\u001b[39m \u001b[38;5;241m0.5\u001b[39m)\n\u001b[1;32m      3\u001b[0m rts_data[rts_data\u001b[38;5;241m.\u001b[39mUUID\u001b[38;5;241m.\u001b[39misin(\u001b[38;5;28mlist\u001b[39m(intersection_gdf\u001b[38;5;241m.\u001b[39mUUID_2))]\u001b[38;5;241m.\u001b[39mboundary\u001b[38;5;241m.\u001b[39mplot(ax \u001b[38;5;241m=\u001b[39m plt, color \u001b[38;5;241m=\u001b[39m \u001b[38;5;124m'\u001b[39m\u001b[38;5;124mpurple\u001b[39m\u001b[38;5;124m'\u001b[39m, linewidth \u001b[38;5;241m=\u001b[39m \u001b[38;5;241m0.5\u001b[39m)\n",
      "\u001b[0;31mNameError\u001b[0m: name 'intersection_gdf' is not defined"
     ]
    }
   ],
   "source": [
    "plt = intersection_gdf.boundary.plot(color = 'black', linewidth = 1)\n",
    "new_data.boundary.plot(ax = plt, color = 'red', linewidth = 0.5)\n",
    "rts_data[rts_data.UUID.isin(list(intersection_gdf.UUID_2))].boundary.plot(ax = plt, color = 'purple', linewidth = 0.5)"
   ]
  },
  {
   "cell_type": "code",
   "execution_count": null,
   "id": "8fc3ff25-729d-442a-8ec4-76ca523fb8a1",
   "metadata": {},
   "outputs": [],
   "source": [
    "rts_data.UUID in list(intersection_gdf.UUID_2)"
   ]
  }
 ],
 "metadata": {
  "kernelspec": {
   "display_name": "Python 3 (ipykernel)",
   "language": "python",
   "name": "python3"
  },
  "language_info": {
   "codemirror_mode": {
    "name": "ipython",
    "version": 3
   },
   "file_extension": ".py",
   "mimetype": "text/x-python",
   "name": "python",
   "nbconvert_exporter": "python",
   "pygments_lexer": "ipython3",
   "version": "3.11.5"
  }
 },
 "nbformat": 4,
 "nbformat_minor": 5
}
